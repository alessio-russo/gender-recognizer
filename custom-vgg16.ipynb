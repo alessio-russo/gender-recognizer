{
 "cells": [
  {
   "cell_type": "code",
   "id": "initial_id",
   "metadata": {
    "collapsed": true,
    "ExecuteTime": {
     "end_time": "2024-07-27T15:05:10.570641Z",
     "start_time": "2024-07-27T15:05:10.547267Z"
    }
   },
   "source": [
    "import pathlib\n",
    "\n",
    "man_dir = pathlib.Path('dataset/MEN')\n",
    "woman_dir = pathlib.Path('dataset/WOMAN')\n",
    "\n",
    "man_files = man_dir.glob('*jpg')\n",
    "woman_files = woman_dir.glob('*jpg')"
   ],
   "outputs": [],
   "execution_count": 10
  },
  {
   "metadata": {
    "ExecuteTime": {
     "end_time": "2024-07-27T15:05:10.578419Z",
     "start_time": "2024-07-27T15:05:10.574829Z"
    }
   },
   "cell_type": "code",
   "source": [
    "import torch\n",
    "device = 'cuda' if torch.cuda.is_available() else 'cpu'"
   ],
   "id": "c2c49d57e3d1ac32",
   "outputs": [],
   "execution_count": 11
  },
  {
   "metadata": {
    "ExecuteTime": {
     "end_time": "2024-07-27T15:05:10.584323Z",
     "start_time": "2024-07-27T15:05:10.579502Z"
    }
   },
   "cell_type": "code",
   "source": [
    "from torch.utils.data import Dataset\n",
    "from PIL import Image\n",
    "\n",
    "class ImageDataset(Dataset):\n",
    "    def __init__(self, files, labels, transform=None):\n",
    "        self._files = files\n",
    "        self._labels = labels\n",
    "        self._transform = transform\n",
    "    \n",
    "    def __getitem__(self, index):\n",
    "        image = Image.open(self._files[index])\n",
    "        if self._transform is not None:\n",
    "            image = self._transform(image)\n",
    "        label = self._labels[index]\n",
    "        return image, label\n",
    "    \n",
    "    def __len__(self):\n",
    "        return len(self._labels)"
   ],
   "id": "ac0ad97c5402763f",
   "outputs": [],
   "execution_count": 12
  },
  {
   "metadata": {
    "ExecuteTime": {
     "end_time": "2024-07-27T15:05:10.592172Z",
     "start_time": "2024-07-27T15:05:10.587081Z"
    }
   },
   "cell_type": "code",
   "source": [
    "from torchvision import transforms\n",
    "\n",
    "def create_image_dataset(file_dir) -> ImageDataset:\n",
    "    height, width = 224,224\n",
    "\n",
    "    transform = transforms.Compose([\n",
    "        transforms.ToTensor(),\n",
    "        transforms.Resize((height, width))\n",
    "    ])\n",
    "    \n",
    "    labels = []\n",
    "    files = []\n",
    "    for i, file in enumerate(file_dir):\n",
    "        labels.append(0)\n",
    "        files.append(file)\n",
    "        \n",
    "    return ImageDataset(files, labels, transform)"
   ],
   "id": "668e7b292fca7d11",
   "outputs": [],
   "execution_count": 13
  },
  {
   "metadata": {
    "ExecuteTime": {
     "end_time": "2024-07-27T15:05:10.603072Z",
     "start_time": "2024-07-27T15:05:10.593258Z"
    }
   },
   "cell_type": "code",
   "source": [
    "from torch.utils.data import ConcatDataset\n",
    "\n",
    "man_dataset = create_image_dataset(man_files)\n",
    "woman_dataset = create_image_dataset(woman_files)\n",
    "\n",
    "dataset = ConcatDataset([man_dataset, woman_dataset])"
   ],
   "id": "b9262ae0405f8e02",
   "outputs": [],
   "execution_count": 14
  },
  {
   "metadata": {
    "ExecuteTime": {
     "end_time": "2024-07-27T15:05:10.612599Z",
     "start_time": "2024-07-27T15:05:10.604842Z"
    }
   },
   "cell_type": "code",
   "source": [
    "from torch.utils.data import random_split\n",
    "\n",
    "train_dataset, test_dataset = random_split(dataset, [0.8, 0.2])"
   ],
   "id": "728c96bf71146d16",
   "outputs": [],
   "execution_count": 15
  },
  {
   "metadata": {
    "ExecuteTime": {
     "end_time": "2024-07-27T15:05:10.617485Z",
     "start_time": "2024-07-27T15:05:10.613603Z"
    }
   },
   "cell_type": "code",
   "source": [
    "from torch.utils.data import DataLoader\n",
    "\n",
    "train_loader = DataLoader(dataset=train_dataset, batch_size=16, shuffle=True)\n",
    "test_loader = DataLoader(dataset=test_dataset, batch_size=16, shuffle=False)"
   ],
   "id": "56e41ed880492cd2",
   "outputs": [],
   "execution_count": 16
  },
  {
   "metadata": {
    "ExecuteTime": {
     "end_time": "2024-07-27T15:05:10.786524Z",
     "start_time": "2024-07-27T15:05:10.618815Z"
    }
   },
   "cell_type": "code",
   "source": [
    "from torch import nn, optim\n",
    "\n",
    "loss_fn = nn.BCEWithLogitsLoss()\n",
    "\n",
    "model = nn.Sequential(\n",
    "    \n",
    "    nn.Conv2d(in_channels=3, out_channels=64, kernel_size=3, padding=1),\n",
    "    nn.ReLU(),\n",
    "    nn.Conv2d(in_channels=64, out_channels=64, kernel_size=3, padding=1),\n",
    "    nn.ReLU(),\n",
    "    nn.MaxPool2d(kernel_size=2),\n",
    "    \n",
    "    nn.Conv2d(in_channels=64, out_channels=128, kernel_size=3, padding=1),\n",
    "    nn.ReLU(),\n",
    "    nn.Conv2d(in_channels=128, out_channels=128, kernel_size=3, padding=1),\n",
    "    nn.ReLU(),\n",
    "    nn.MaxPool2d(kernel_size=2),\n",
    "    \n",
    "    nn.Conv2d(in_channels=128, out_channels=256, kernel_size=3, padding=1),\n",
    "    nn.ReLU(),\n",
    "    nn.Conv2d(in_channels=256, out_channels=256, kernel_size=3, padding=1),\n",
    "    nn.ReLU(),\n",
    "    nn.Conv2d(in_channels=256, out_channels=256, kernel_size=3, padding=1),\n",
    "    nn.ReLU(),\n",
    "    nn.MaxPool2d(kernel_size=2),\n",
    "    \n",
    "    nn.Conv2d(in_channels=256, out_channels=512, kernel_size=3, padding=1),\n",
    "    nn.ReLU(),\n",
    "    nn.Conv2d(in_channels=512, out_channels=512, kernel_size=3, padding=1),\n",
    "    nn.ReLU(),\n",
    "    nn.Conv2d(in_channels=512, out_channels=512, kernel_size=3, padding=1),\n",
    "    nn.ReLU(),\n",
    "    nn.MaxPool2d(kernel_size=2),\n",
    "    \n",
    "    nn.Conv2d(in_channels=512, out_channels=512, kernel_size=3, padding=1),\n",
    "    nn.ReLU(),\n",
    "    nn.Conv2d(in_channels=512, out_channels=512, kernel_size=3, padding=1),\n",
    "    nn.ReLU(),\n",
    "    nn.Conv2d(in_channels=512, out_channels=512, kernel_size=3, padding=1),\n",
    "    nn.ReLU(),\n",
    "    nn.MaxPool2d(kernel_size=2),\n",
    "    \n",
    "    nn.Flatten(),\n",
    "    \n",
    "    nn.Linear(25088, 256),\n",
    "    nn.ReLU(),\n",
    "    nn.Dropout(p=0.5),\n",
    "    \n",
    "    nn.Linear(256, 1)\n",
    ")\n",
    "\n",
    "model = model.to(device)\n",
    "optimizer = optim.Adam(model.parameters(), lr=0.001)"
   ],
   "id": "a415e630e16c52fc",
   "outputs": [],
   "execution_count": 17
  },
  {
   "metadata": {
    "ExecuteTime": {
     "end_time": "2024-07-27T15:08:45.428535Z",
     "start_time": "2024-07-27T15:05:10.788376Z"
    }
   },
   "cell_type": "code",
   "source": [
    "epochs = 2\n",
    "model.train()\n",
    "\n",
    "for epoch in range(epochs):\n",
    "\n",
    "    for x_batch, y_batch in train_loader:\n",
    "        x_batch = x_batch.to(device)\n",
    "        y_batch = y_batch.to(device)\n",
    "        \n",
    "        output = model(x_batch).reshape(-1)\n",
    "        y_batch = y_batch.to(torch.float32)\n",
    "        loss = loss_fn(output, y_batch)\n",
    "        loss.backward()\n",
    "        optimizer.step()\n",
    "        optimizer.zero_grad()\n",
    "\n",
    "    if (epoch + 1) % 1 == 0:\n",
    "        print(f\"Epoch: {epoch + 1}, Loss: {loss.item()}\")"
   ],
   "id": "882b4041089f2787",
   "outputs": [
    {
     "name": "stderr",
     "output_type": "stream",
     "text": [
      "\n",
      "KeyboardInterrupt\n",
      "\n"
     ]
    }
   ],
   "execution_count": 18
  },
  {
   "metadata": {},
   "cell_type": "code",
   "source": [
    "correct = 0\n",
    "totals = 0\n",
    "model.eval()\n",
    "\n",
    "with torch.no_grad():\n",
    "    for x_batch, y_batch in test_loader:\n",
    "        logit = model(x_batch)\n",
    "        labels = torch.argmax(logit, dim=1)\n",
    "        correct += torch.sum(labels == y_batch).item()\n",
    "        totals += y_batch.size(0)\n",
    "print(f\"Accuracy: {correct / totals}\")"
   ],
   "id": "14bb4fd4015ce884",
   "outputs": [],
   "execution_count": null
  },
  {
   "metadata": {},
   "cell_type": "code",
   "source": "torch.save(model, 'gender-recognizer.pt')",
   "id": "36037d661181a9ed",
   "outputs": [],
   "execution_count": null
  }
 ],
 "metadata": {
  "kernelspec": {
   "display_name": "Python 3",
   "language": "python",
   "name": "python3"
  },
  "language_info": {
   "codemirror_mode": {
    "name": "ipython",
    "version": 2
   },
   "file_extension": ".py",
   "mimetype": "text/x-python",
   "name": "python",
   "nbconvert_exporter": "python",
   "pygments_lexer": "ipython2",
   "version": "2.7.6"
  }
 },
 "nbformat": 4,
 "nbformat_minor": 5
}
